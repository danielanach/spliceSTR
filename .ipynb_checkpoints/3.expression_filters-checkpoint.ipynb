{
 "cells": [
  {
   "cell_type": "markdown",
   "metadata": {
    "collapsed": true
   },
   "source": [
    "## This is a notebook for thinking about which filters to use on the data as well as scratch work for the filtering"
   ]
  },
  {
   "cell_type": "markdown",
   "metadata": {},
   "source": [
    "### General filters:"
   ]
  },
  {
   "cell_type": "markdown",
   "metadata": {
    "collapsed": true
   },
   "source": [
    "* Drop y chr\n",
    "* Isoforms with at less than 10 samples with <1 TPM and <6 reads.\n",
    "* We filtered out genes where the Ensembl gene ID did not uniquely map to a single HGNC gene symbol. \n",
    "* Isoform ratio was computed by using annotated isoforms in GENCODE V19 annotation, and undefined ratios (0/0, when none of the isoforms were expressed)were imputed from the mean ratio per isoform across individuals.\n",
    "\n",
    "Exon expression:\n",
    "* Drop y chr\n",
    "* Mean expression > 0\n",
    "* At less than 10 samples with <1 TPM and <6 reads.\n",
    "\n",
    "Transcript ratio:\n",
    "* Drop y chr\n",
    "* Transcript ratio was computed by using annotated isoforms in GENCODE V19 annotation, and undefined ratios (0/0, when none of the isoforms were expressed)were imputed from the mean ratio per isoform across individuals.\n",
    "* Each gene’s least abundant isoform was excluded to avoid linear dependency between isoform ratio values. ??\n",
    "\n",
    "PSI:\n",
    "* Drop y chr\n",
    "* Minimum variance for the inclusion of an exon, we don't really care to look for a relationship between PSI and PSI if the exon is not variably expressed - ended up using >10% of the samples had to have PSI != 0% or 100%\n",
    "* Minimum of 10 reads (across A+B+C) in at least 20% of samples\n",
    "* Minimum of 5 reads per sample (?)\n",
    "\n",
    "STRs:\n",
    "* Minimum 3 genotypes\n",
    "* Minimum 5 samples per genotype"
   ]
  },
  {
   "cell_type": "markdown",
   "metadata": {},
   "source": [
    "### Confounding factors:"
   ]
  },
  {
   "cell_type": "markdown",
   "metadata": {},
   "source": [
    "How other people have corrected for these facors:"
   ]
  },
  {
   "cell_type": "markdown",
   "metadata": {},
   "source": [
    "* By Mostafavi et al\n",
    ">'To correct hidden confounding factors, we applied hidden covariates with prior (HCP) method' [(Mostafavi et al. 2013)](http://journals.plos.org/plosone/article?id=10.1371/journal.pone.0068141), whose parameters were selected based on an external signal relevant to regulatory relationships. 'Namely, we selected parameters that produced maximal replication of an independent set of trans-eQTLs from meta-analysis of a large collection of independent whole blood studies (Westra et al. 2013)."
   ]
  },
  {
   "cell_type": "markdown",
   "metadata": {},
   "source": [
    "* By Takata et al, who used PSI calculations for spliceQTLs in GTEx brain tissue samples. \n",
    ">'To control potential confounding factors, the following parameters were included in the analysis as covariates; gender, age of death, research institute where the samples were collected (Mount Sinai, Pennsylvania or Pittsburg), post-mortem interval, brain pH, RNA integrity number and sequencing library batch. [(Takata et al. 2017)](https://www.ncbi.nlm.nih.gov/pmc/articles/PMC5333373/)"
   ]
  },
  {
   "cell_type": "markdown",
   "metadata": {},
   "source": [
    "# Below is scratch work for filtering - not important for other people."
   ]
  },
  {
   "cell_type": "markdown",
   "metadata": {},
   "source": [
    "-------------------"
   ]
  },
  {
   "cell_type": "markdown",
   "metadata": {
    "collapsed": true
   },
   "source": [
    "## GENOTYPE FILTERS: minimum count and minimum number of genotypes"
   ]
  },
  {
   "cell_type": "code",
   "execution_count": 19,
   "metadata": {
    "collapsed": false
   },
   "outputs": [],
   "source": [
    "import pandas as pd\n",
    "import vcf\n",
    "GTFIELD = \"GB\"\n",
    "MINCOUNT = 3\n",
    "MINGENOTYPES = 3\n",
    "MINSAMPLES = 50"
   ]
  },
  {
   "cell_type": "code",
   "execution_count": 35,
   "metadata": {
    "collapsed": true
   },
   "outputs": [],
   "source": [
    "def GetGT(gt):\n",
    "    if gt is None or gt == \"\": \n",
    "        return None\n",
    "    if str(gt) == \".\" or str(gt) == \"./.\": \n",
    "        return None #Missing genotype control\n",
    "    if \"|\" in gt:\n",
    "        return map(int, gt.split(\"|\"))\n",
    "    elif \"/\" in gt: \n",
    "        return map(int, gt.split(\"/\"))\n",
    "    else: \n",
    "        return [int(gt), int(gt)] # haploid"
   ]
  },
  {
   "cell_type": "code",
   "execution_count": 3,
   "metadata": {
    "collapsed": true
   },
   "outputs": [],
   "source": [
    "def checkgt(record,s):\n",
    "    try:\n",
    "        return(record.genotype(s)[GTFIELD])\n",
    "    except:\n",
    "        return None"
   ]
  },
  {
   "cell_type": "code",
   "execution_count": 36,
   "metadata": {
    "collapsed": false
   },
   "outputs": [
    {
     "name": "stdout",
     "output_type": "stream",
     "text": [
      "NOT ENOUGH GENOTYPES\n",
      "NOT ENOUGH GENOTYPES\n",
      "THERE WERE ENOUGH GENOTYPES\n",
      "NOT ENOUGH SAMPLES\n"
     ]
    }
   ],
   "source": [
    "str_vcf = '/storage/szfeupe/Runs/650GTEx_estr/Filter_Merged_STRs_All_Samples_New.vcf.gz'\n",
    "vcf_reader = vcf.Reader(open(str_vcf,\"rb\"))\n",
    "vcf_reads = vcf_reader.fetch('1')\n",
    "samples = vcf_reads.samples\n",
    "\n",
    "for record in vcf_reads:\n",
    "    genotypes = [GetGT(checkgt(record,s)) for s in samples]\n",
    "    gt_sum = [sum(gt) if gt is not None else None for gt in genotypes]\n",
    "    unique_vals = pd.Series(gt_sum).value_counts(dropna=True)\n",
    "    good_gts = unique_vals[unique_vals >= MINCOUNT].index\n",
    "    if len(good_gts) < MINGENOTYPES:\n",
    "        print('NOT ENOUGH GENOTYPES')\n",
    "        continue\n",
    "    else:\n",
    "        print('THERE WERE ENOUGH GENOTYPES')\n",
    "    genotypes = [genotypes[i] if gt_sum[i] in good_gts else None for i in range(len(gt_sum))]\n",
    "    if len([item for item in genotypes if item is not None]) < MINSAMPLES:\n",
    "        print('NOT ENOUGH SAMPLES')\n",
    "        break\n",
    "    else:\n",
    "        print('THERE WERE ENOUGH SAMPLES')\n",
    "        "
   ]
  },
  {
   "cell_type": "code",
   "execution_count": 33,
   "metadata": {
    "collapsed": false
   },
   "outputs": [
    {
     "data": {
      "text/plain": [
       "31"
      ]
     },
     "execution_count": 33,
     "metadata": {},
     "output_type": "execute_result"
    }
   ],
   "source": [
    "len([item for item in genotypes if item is not None])"
   ]
  },
  {
   "cell_type": "code",
   "execution_count": 25,
   "metadata": {
    "collapsed": false
   },
   "outputs": [],
   "source": [
    "genotypes = [GetGT(checkgt(record,s)) for s in samples]"
   ]
  },
  {
   "cell_type": "code",
   "execution_count": 28,
   "metadata": {
    "collapsed": false
   },
   "outputs": [
    {
     "data": {
      "text/plain": [
       "0.0    642\n",
       "1.0      1\n",
       "dtype: int64"
      ]
     },
     "execution_count": 28,
     "metadata": {},
     "output_type": "execute_result"
    }
   ],
   "source": [
    "gt_sum = [sum(gt) if gt is not None else None for gt in genotypes]\n",
    "unique_vals = pd.Series(gt_sum).value_counts(dropna=True)\n",
    "unique_vals"
   ]
  },
  {
   "cell_type": "code",
   "execution_count": 34,
   "metadata": {
    "collapsed": false
   },
   "outputs": [],
   "source": [
    "my_strgt = pd.read_csv('/storage/dana/spliceSTR/genotypes_mincount/Allele_Gentype_chr1.table', sep=\"\\t\", low_memory=False)\n"
   ]
  },
  {
   "cell_type": "code",
   "execution_count": 36,
   "metadata": {
    "collapsed": false
   },
   "outputs": [
    {
     "data": {
      "text/html": [
       "<div>\n",
       "<style scoped>\n",
       "    .dataframe tbody tr th:only-of-type {\n",
       "        vertical-align: middle;\n",
       "    }\n",
       "\n",
       "    .dataframe tbody tr th {\n",
       "        vertical-align: top;\n",
       "    }\n",
       "\n",
       "    .dataframe thead th {\n",
       "        text-align: right;\n",
       "    }\n",
       "</style>\n",
       "<table border=\"1\" class=\"dataframe\">\n",
       "  <thead>\n",
       "    <tr style=\"text-align: right;\">\n",
       "      <th></th>\n",
       "      <th>chrom</th>\n",
       "      <th>start</th>\n",
       "      <th>GTEX-PLZ4</th>\n",
       "      <th>GTEX-NFK9</th>\n",
       "      <th>GTEX-OHPM</th>\n",
       "      <th>GTEX-X4EO</th>\n",
       "      <th>GTEX-UTHO</th>\n",
       "      <th>GTEX-TMZS</th>\n",
       "      <th>GTEX-WY7C</th>\n",
       "      <th>GTEX-P44H</th>\n",
       "      <th>...</th>\n",
       "      <th>GTEX-1212Z</th>\n",
       "      <th>GTEX-14C39</th>\n",
       "      <th>GTEX-131XF</th>\n",
       "      <th>GTEX-111YS</th>\n",
       "      <th>GTEX-ZXES</th>\n",
       "      <th>GTEX-11WQK</th>\n",
       "      <th>GTEX-ZVP2</th>\n",
       "      <th>GTEX-Y8E4</th>\n",
       "      <th>GTEX-1GN2E</th>\n",
       "      <th>GTEX-14PJM</th>\n",
       "    </tr>\n",
       "  </thead>\n",
       "  <tbody>\n",
       "    <tr>\n",
       "      <th>412</th>\n",
       "      <td>chr1</td>\n",
       "      <td>1298161</td>\n",
       "      <td>-1,-1</td>\n",
       "      <td>-1,-1</td>\n",
       "      <td>-1,-1</td>\n",
       "      <td>NA,NA</td>\n",
       "      <td>NA,NA</td>\n",
       "      <td>-1,-1</td>\n",
       "      <td>-1,-1</td>\n",
       "      <td>-1,-1</td>\n",
       "      <td>...</td>\n",
       "      <td>-1,-1</td>\n",
       "      <td>-1,-1</td>\n",
       "      <td>0,-1</td>\n",
       "      <td>-1,-1</td>\n",
       "      <td>-1,-1</td>\n",
       "      <td>NA,NA</td>\n",
       "      <td>-1,-1</td>\n",
       "      <td>-1,-1</td>\n",
       "      <td>-1,-1</td>\n",
       "      <td>-1,-1</td>\n",
       "    </tr>\n",
       "  </tbody>\n",
       "</table>\n",
       "<p>1 rows × 652 columns</p>\n",
       "</div>"
      ],
      "text/plain": [
       "    chrom    start GTEX-PLZ4 GTEX-NFK9 GTEX-OHPM GTEX-X4EO GTEX-UTHO  \\\n",
       "412  chr1  1298161     -1,-1     -1,-1     -1,-1     NA,NA     NA,NA   \n",
       "\n",
       "    GTEX-TMZS GTEX-WY7C GTEX-P44H    ...     GTEX-1212Z GTEX-14C39 GTEX-131XF  \\\n",
       "412     -1,-1     -1,-1     -1,-1    ...          -1,-1      -1,-1       0,-1   \n",
       "\n",
       "    GTEX-111YS GTEX-ZXES GTEX-11WQK GTEX-ZVP2 GTEX-Y8E4 GTEX-1GN2E GTEX-14PJM  \n",
       "412      -1,-1     -1,-1      NA,NA     -1,-1     -1,-1      -1,-1      -1,-1  \n",
       "\n",
       "[1 rows x 652 columns]"
      ]
     },
     "execution_count": 36,
     "metadata": {},
     "output_type": "execute_result"
    }
   ],
   "source": [
    "my_strgt[my_strgt['start'] == 1298161]"
   ]
  },
  {
   "cell_type": "code",
   "execution_count": 30,
   "metadata": {
    "collapsed": false
   },
   "outputs": [
    {
     "data": {
      "text/plain": [
       "Call(sample=GTEX-PLZ4, CallData(GT=./., GB=0|0))"
      ]
     },
     "execution_count": 30,
     "metadata": {},
     "output_type": "execute_result"
    }
   ],
   "source": [
    "record.genotype('GTEX-PLZ4')"
   ]
  },
  {
   "cell_type": "code",
   "execution_count": 32,
   "metadata": {
    "collapsed": false
   },
   "outputs": [],
   "source": [
    "strgt = pd.read_csv('/storage/szfeupe/Runs/650GTEx_estr/Genotypes/Allele_Gentypes.table', sep=\"\\t\", low_memory=False)"
   ]
  },
  {
   "cell_type": "code",
   "execution_count": 34,
   "metadata": {
    "collapsed": false
   },
   "outputs": [
    {
     "data": {
      "text/plain": [
       "3"
      ]
     },
     "execution_count": 34,
     "metadata": {},
     "output_type": "execute_result"
    }
   ],
   "source": [
    "test = [\"1\",\"2\"]\n",
    "sum(map(int,test))"
   ]
  },
  {
   "cell_type": "code",
   "execution_count": null,
   "metadata": {
    "collapsed": true
   },
   "outputs": [],
   "source": []
  }
 ],
 "metadata": {
  "kernelspec": {
   "display_name": "Python 3",
   "language": "python",
   "name": "python3"
  },
  "language_info": {
   "codemirror_mode": {
    "name": "ipython",
    "version": 3
   },
   "file_extension": ".py",
   "mimetype": "text/x-python",
   "name": "python",
   "nbconvert_exporter": "python",
   "pygments_lexer": "ipython3",
   "version": "3.4.5"
  }
 },
 "nbformat": 4,
 "nbformat_minor": 2
}
